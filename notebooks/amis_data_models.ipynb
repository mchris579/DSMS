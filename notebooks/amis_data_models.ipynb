{
 "cells": [
  {
   "cell_type": "code",
   "execution_count": 1,
   "metadata": {},
   "outputs": [],
   "source": [
    "import pandas as ps\n",
    "import plotly.express as px\n",
    "import numpy as np\n",
    "from scipy.stats import pearsonr\n",
    "import joblib\n",
    "from sklearn.linear_model import LinearRegression\n",
    "from sklearn.model_selection import train_test_split\n",
    "import matplotlib.pyplot as plt\n",
    "from sklearn.metrics import mean_absolute_error, mean_squared_error\n",
    "\n",
    "x_test = ps.read_csv('../data/split/x_test.csv', engine='python', sep=',')\n",
    "y_test = ps.read_csv('../data/split/y_test.csv', engine='python', sep=',')"
   ]
  },
  {
   "attachments": {},
   "cell_type": "markdown",
   "metadata": {},
   "source": [
    "# Linear regression"
   ]
  },
  {
   "cell_type": "code",
   "execution_count": 3,
   "metadata": {},
   "outputs": [
    {
     "name": "stdout",
     "output_type": "stream",
     "text": [
      "Mean absolute error: 17946.721163015023\n",
      "Mean squared error: 687516082.5762304\n",
      "Root mean squared error: 26220.53\n"
     ]
    }
   ],
   "source": [
    "model_reg = joblib.load('../models/linear_regression/lr.pkl')\n",
    "\n",
    "y_pred = model_reg.predict(x_test)\n",
    "\n",
    "df_prediction = ps.DataFrame({'Actual': y_test.squeeze(), 'Predicted':y_pred.squeeze()})\n",
    "\n",
    "mae = mean_absolute_error(y_test, y_pred)\n",
    "mse = mean_squared_error(y_test, y_pred)\n",
    "rmse = np.sqrt(mse)\n",
    "\n",
    "print(f'Mean absolute error: {mae}')\n",
    "print(f'Mean squared error: {mse}')\n",
    "print(f'Root mean squared error: {rmse:.2f}')"
   ]
  },
  {
   "attachments": {},
   "cell_type": "markdown",
   "metadata": {},
   "source": [
    "# Random Forest"
   ]
  },
  {
   "cell_type": "code",
   "execution_count": 9,
   "metadata": {},
   "outputs": [
    {
     "name": "stdout",
     "output_type": "stream",
     "text": [
      "Mean absolute error: 24580.545454545456\n",
      "Mean squared error: 1353869024.6501377\n",
      "Root mean squared error: 36794.96\n"
     ]
    }
   ],
   "source": [
    "model_rf = joblib.load('../models/random_forest/rf.pkl')\n",
    "\n",
    "y_pred = model_rf.predict(x_test)\n",
    "\n",
    "df_prediction = ps.DataFrame({'Actual': y_test.squeeze(), 'Predicted':y_pred.squeeze()})\n",
    "\n",
    "mae = mean_absolute_error(y_test, y_pred)\n",
    "mse = mean_squared_error(y_test, y_pred)\n",
    "rmse = np.sqrt(mse)\n",
    "\n",
    "print(f'Mean absolute error: {mae}')\n",
    "print(f'Mean squared error: {mse}')\n",
    "print(f'Root mean squared error: {rmse:.2f}')"
   ]
  },
  {
   "attachments": {},
   "cell_type": "markdown",
   "metadata": {},
   "source": []
  },
  {
   "cell_type": "code",
   "execution_count": 12,
   "metadata": {},
   "outputs": [
    {
     "name": "stdout",
     "output_type": "stream",
     "text": [
      "Mean absolute error: 24810.99173553719\n",
      "Mean squared error: 1446353928.3360882\n",
      "Root mean squared error: 38030.96\n"
     ]
    }
   ],
   "source": [
    "model_rf_tuning = joblib.load('../models/random_forest/rf_tuning.pkl')\n",
    "\n",
    "y_pred = model_rf_tuning.predict(x_test)\n",
    "\n",
    "df_prediction = ps.DataFrame({'Actual': y_test.squeeze(), 'Predicted':y_pred.squeeze()})\n",
    "\n",
    "mae = mean_absolute_error(y_test, y_pred)\n",
    "mse = mean_squared_error(y_test, y_pred)\n",
    "rmse = np.sqrt(mse)\n",
    "\n",
    "print(f'Mean absolute error: {mae}')\n",
    "print(f'Mean squared error: {mse}')\n",
    "print(f'Root mean squared error: {rmse:.2f}')"
   ]
  }
 ],
 "metadata": {
  "kernelspec": {
   "display_name": "Python 3",
   "language": "python",
   "name": "python3"
  },
  "language_info": {
   "codemirror_mode": {
    "name": "ipython",
    "version": 3
   },
   "file_extension": ".py",
   "mimetype": "text/x-python",
   "name": "python",
   "nbconvert_exporter": "python",
   "pygments_lexer": "ipython3",
   "version": "3.10.11"
  },
  "orig_nbformat": 4
 },
 "nbformat": 4,
 "nbformat_minor": 2
}
