{
 "cells": [
  {
   "cell_type": "code",
   "execution_count": 68,
   "metadata": {},
   "outputs": [],
   "source": [
    "import pandas as ps\n",
    "import plotly.express as px\n",
    "import numpy as np\n",
    "from scipy.stats import pearsonr\n",
    "import joblib\n",
    "from sklearn.linear_model import LinearRegression\n",
    "from sklearn.model_selection import train_test_split\n",
    "import matplotlib.pyplot as plt\n",
    "from sklearn.metrics import mean_absolute_error, mean_squared_error, mean_squared_log_error\n",
    "\n",
    "x_test = ps.read_csv('../data/split/x_test.csv', engine='python', sep=',')\n",
    "y_test = ps.read_csv('../data/split/y_test.csv', engine='python', sep=',')\n",
    "x_train = ps.read_csv('../data/split/x_train.csv', engine='python', sep=',')\n",
    "y_train = ps.read_csv('../data/split/y_train.csv', engine='python', sep=',')"
   ]
  },
  {
   "attachments": {},
   "cell_type": "markdown",
   "metadata": {},
   "source": [
    "# Linear regression"
   ]
  },
  {
   "cell_type": "code",
   "execution_count": 55,
   "metadata": {},
   "outputs": [
    {
     "name": "stdout",
     "output_type": "stream",
     "text": [
      "Mean absolute error: 15492.116617070778\n",
      "Mean squared error: 483293745.98276067\n",
      "Root mean squared error: 21983.942912561448\n",
      "Mean squared log error: 0.125777753870742\n",
      "---------------------------------------\n",
      "Mean absolute error: 11318.321082832128\n",
      "Mean squared error: 312991146.22960883\n",
      "Root mean squared error: 17691.555788839174\n",
      "Mean squared log error: 0.0900361928495771\n"
     ]
    }
   ],
   "source": [
    "model_reg = joblib.load('../models/linear_regression/lr.pkl')\n",
    "\n",
    "y_test_pred = model_reg.predict(x_test)\n",
    "y_train_pred = model_reg.predict(x_train)\n",
    "\n",
    "df_prediction = ps.DataFrame({'Actual': y_test.squeeze(), 'Predicted':y_test_pred.squeeze()})\n",
    "\n",
    "test_mae = mean_absolute_error(y_test, y_test_pred)\n",
    "test_mse = mean_squared_error(y_test, y_test_pred)\n",
    "test_rmse = np.sqrt(test_mse)\n",
    "test_rmsle = mean_squared_log_error(y_test, y_test_pred, squared=False)\n",
    "\n",
    "train_mae = mean_absolute_error(y_train, y_train_pred)\n",
    "train_mse = mean_squared_error(y_train, y_train_pred)\n",
    "train_rmse = np.sqrt(train_mse)\n",
    "train_rmsle = mean_squared_log_error(y_train, y_train_pred, squared=False)\n",
    "\n",
    "print(f'Mean absolute error: {test_mae}')\n",
    "print(f'Mean squared error: {test_mse}')\n",
    "print(f'Root mean squared error: {test_rmse}')\n",
    "print(f'Mean squared log error: {test_rmsle}')\n",
    "print('---------------------------------------')\n",
    "print(f'Mean absolute error: {train_mae}')\n",
    "print(f'Mean squared error: {train_mse}')\n",
    "print(f'Root mean squared error: {train_rmse}')\n",
    "print(f'Mean squared log error: {train_rmsle}')\n",
    "\n"
   ]
  },
  {
   "attachments": {},
   "cell_type": "markdown",
   "metadata": {},
   "source": [
    "# Random Forest"
   ]
  },
  {
   "cell_type": "code",
   "execution_count": 71,
   "metadata": {},
   "outputs": [
    {
     "name": "stdout",
     "output_type": "stream",
     "text": [
      "Mean absolute error: 5945.30303030303\n",
      "Mean squared error: 286254250.94490355\n",
      "Root mean squared error: 16919.049942148158\n",
      "Mean squared log error: 0.08060636525358057\n",
      "---------------------------------------\n",
      "Mean absolute error: 6435.369244935543\n",
      "Mean squared error: 391970102.9843462\n",
      "Root mean squared error: 19798.234845166025\n",
      "Mean squared log error: 0.10414105925176978\n"
     ]
    }
   ],
   "source": [
    "model_rf = joblib.load('../models/random_forest/rf.pkl')\n",
    "\n",
    "y_test_pred = model_rf.predict(x_test)\n",
    "y_train_pred = model_rf.predict(x_train)\n",
    "\n",
    "df_prediction = ps.DataFrame({'Actual': y_test.squeeze(), 'Predicted':y_test_pred.squeeze()})\n",
    "\n",
    "test_mae = mean_absolute_error(y_test, y_test_pred)\n",
    "test_mse = mean_squared_error(y_test, y_test_pred)\n",
    "test_rmse = np.sqrt(test_mse)\n",
    "test_rmsle = mean_squared_log_error(y_test, y_test_pred, squared=False)\n",
    "\n",
    "train_mae = mean_absolute_error(y_train, y_train_pred)\n",
    "train_mse = mean_squared_error(y_train, y_train_pred)\n",
    "train_rmse = np.sqrt(train_mse)\n",
    "train_rmsle = mean_squared_log_error(y_train, y_train_pred, squared=False)\n",
    "\n",
    "print(f'Mean absolute error: {test_mae}')\n",
    "print(f'Mean squared error: {test_mse}')\n",
    "print(f'Root mean squared error: {test_rmse}')\n",
    "print(f'Mean squared log error: {test_rmsle}')\n",
    "print('---------------------------------------')\n",
    "print(f'Mean absolute error: {train_mae}')\n",
    "print(f'Mean squared error: {train_mse}')\n",
    "print(f'Root mean squared error: {train_rmse}')\n",
    "print(f'Mean squared log error: {train_rmsle}')"
   ]
  },
  {
   "attachments": {},
   "cell_type": "markdown",
   "metadata": {},
   "source": [
    "## Random Forest - Hyperparameter Tuning"
   ]
  },
  {
   "cell_type": "code",
   "execution_count": 70,
   "metadata": {},
   "outputs": [
    {
     "name": "stdout",
     "output_type": "stream",
     "text": [
      "TEST\n",
      "Mean absolute error: 5619.699724517906\n",
      "Mean squared error: 261788272.80716252\n",
      "Root mean squared error: 16179.87245954561\n",
      "Mean squared log error: 0.08186557510051727\n",
      "---------------------------------------\n",
      "TRAINING\n",
      "Mean absolute error: 6189.153775322284\n",
      "Mean squared error: 459874792.51289135\n",
      "Root mean squared error: 21444.69147628129\n",
      "Mean squared log error: 0.094191377835999\n"
     ]
    }
   ],
   "source": [
    "model_rf_tuning = joblib.load('../models/random_forest/rf_tuning.pkl')\n",
    "\n",
    "y_test_pred = model_rf_tuning.predict(x_test)\n",
    "y_train_pred = model_rf_tuning.predict(x_train)\n",
    "\n",
    "df_prediction = ps.DataFrame({'Actual': y_test.squeeze(), 'Predicted':y_test_pred.squeeze()})\n",
    "\n",
    "test_mae = mean_absolute_error(y_test, y_test_pred)\n",
    "test_mse = mean_squared_error(y_test, y_test_pred)\n",
    "test_rmse = np.sqrt(test_mse)\n",
    "test_rmsle = mean_squared_log_error(y_test, y_test_pred, squared=False)\n",
    "\n",
    "train_mae = mean_absolute_error(y_train, y_train_pred)\n",
    "train_mse = mean_squared_error(y_train, y_train_pred)\n",
    "train_rmse = np.sqrt(train_mse)\n",
    "train_rmsle = mean_squared_log_error(y_train, y_train_pred, squared=False)\n",
    "print('TEST')\n",
    "print(f'Mean absolute error: {test_mae}')\n",
    "print(f'Mean squared error: {test_mse}')\n",
    "print(f'Root mean squared error: {test_rmse}')\n",
    "print(f'Mean squared log error: {test_rmsle}')\n",
    "print('---------------------------------------')\n",
    "print('TRAINING')\n",
    "print(f'Mean absolute error: {train_mae}')\n",
    "print(f'Mean squared error: {train_mse}')\n",
    "print(f'Root mean squared error: {train_rmse}')\n",
    "print(f'Mean squared log error: {train_rmsle}')\n"
   ]
  },
  {
   "attachments": {},
   "cell_type": "markdown",
   "metadata": {},
   "source": [
    "# Support Vector Regression"
   ]
  },
  {
   "cell_type": "code",
   "execution_count": 69,
   "metadata": {},
   "outputs": [
    {
     "name": "stdout",
     "output_type": "stream",
     "text": [
      "Mean absolute error: 24529.584557590915\n",
      "Mean squared error: 1405822521.4877906\n",
      "Root mean squared error: 37494.299853281576\n",
      "Mean squared log error: 0.19080767309769217\n",
      "---------------------------------------\n",
      "Mean absolute error: 22324.014118300445\n",
      "Mean squared error: 1696601564.0005884\n",
      "Root mean squared error: 41189.823549034394\n",
      "Mean squared log error: 0.18218812370723766\n"
     ]
    }
   ],
   "source": [
    "model_svr_tuning = joblib.load('../models/support_vector_regression/svr.pkl')\n",
    "\n",
    "y_test_pred = model_svr_tuning.predict(x_test)\n",
    "y_train_pred = model_svr_tuning.predict(x_train)\n",
    "\n",
    "df_prediction = ps.DataFrame({'Actual': y_test.squeeze(), 'Predicted':y_test_pred.squeeze()})\n",
    "\n",
    "test_mae = mean_absolute_error(y_test, y_test_pred)\n",
    "test_mse = mean_squared_error(y_test, y_test_pred)\n",
    "test_rmse = np.sqrt(test_mse)\n",
    "test_rmsle = mean_squared_log_error(y_test, y_test_pred, squared=False)\n",
    "\n",
    "train_mae = mean_absolute_error(y_train, y_train_pred)\n",
    "train_mse = mean_squared_error(y_train, y_train_pred)\n",
    "train_rmse = np.sqrt(train_mse)\n",
    "train_rmsle = mean_squared_log_error(y_train, y_train_pred, squared=False)\n",
    "\n",
    "print(f'Mean absolute error: {test_mae}')\n",
    "print(f'Mean squared error: {test_mse}')\n",
    "print(f'Root mean squared error: {test_rmse}')\n",
    "print(f'Mean squared log error: {test_rmsle}')\n",
    "print('---------------------------------------')\n",
    "print(f'Mean absolute error: {train_mae}')\n",
    "print(f'Mean squared error: {train_mse}')\n",
    "print(f'Root mean squared error: {train_rmse}')\n",
    "print(f'Mean squared log error: {train_rmsle}')"
   ]
  }
 ],
 "metadata": {
  "kernelspec": {
   "display_name": "Python 3",
   "language": "python",
   "name": "python3"
  },
  "language_info": {
   "codemirror_mode": {
    "name": "ipython",
    "version": 3
   },
   "file_extension": ".py",
   "mimetype": "text/x-python",
   "name": "python",
   "nbconvert_exporter": "python",
   "pygments_lexer": "ipython3",
   "version": "3.10.11"
  },
  "orig_nbformat": 4
 },
 "nbformat": 4,
 "nbformat_minor": 2
}
